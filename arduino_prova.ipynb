{
 "cells": [
  {
   "cell_type": "code",
   "execution_count": 9,
   "metadata": {},
   "outputs": [
    {
     "name": "stdout",
     "output_type": "stream",
     "text": [
      "Sorry..type another thing..!\n",
      "See You!...\n"
     ]
    }
   ],
   "source": [
    "import serial\n",
    "import time\n",
    "arduino = serial.Serial('/dev/ttyACM1', 9600)\n",
    "\n",
    "def onOffFunction():\n",
    "    command = input(\"Type something..: ( R / G / O )\")\n",
    "    if command ==\"G\":\n",
    "        print(\"Ok!\")\n",
    "        #time.sleep(1) \n",
    "        arduino.write(b'G') \n",
    "        onOffFunction()\n",
    "    elif command ==\"R\":\n",
    "        print(\"Warning!\")\n",
    "        #time.sleep(1) \n",
    "        arduino.write(b'R')\n",
    "        onOffFunction()\n",
    "    elif command ==\"O\":\n",
    "        print(\"See You!...\")\n",
    "        #time.sleep(1)\n",
    "        arduino.write(b'O') \n",
    "        arduino.close()\n",
    "    else:\n",
    "        print(\"Sorry..type another thing..!\")\n",
    "        onOffFunction()\n",
    "\n",
    "time.sleep(2) #waiting the initialization...\n",
    "\n",
    "onOffFunction()"
   ]
  }
 ],
 "metadata": {
  "kernelspec": {
   "display_name": "posture_correction",
   "language": "python",
   "name": "python3"
  },
  "language_info": {
   "codemirror_mode": {
    "name": "ipython",
    "version": 3
   },
   "file_extension": ".py",
   "mimetype": "text/x-python",
   "name": "python",
   "nbconvert_exporter": "python",
   "pygments_lexer": "ipython3",
   "version": "3.10.13"
  }
 },
 "nbformat": 4,
 "nbformat_minor": 2
}
