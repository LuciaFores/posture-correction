{
 "cells": [
  {
   "cell_type": "code",
   "execution_count": 10,
   "metadata": {},
   "outputs": [
    {
     "name": "stdout",
     "output_type": "stream",
     "text": [
      "Sorry..type another thing..!\n"
     ]
    }
   ],
   "source": [
    "import serial\n",
    "import time\n",
    "arduino = serial.Serial('/dev/ttyACM2', 9600)\n",
    "\n",
    "def onOffFunction():\n",
    "    command = input(\"Type something..: ( R / G / V / O )\")\n",
    "    if command ==\"G\":\n",
    "        arduino.write(b'G') \n",
    "        onOffFunction()\n",
    "    elif command ==\"R\": \n",
    "        arduino.write(b'R')\n",
    "        onOffFunction()\n",
    "    elif command ==\"V\":\n",
    "        arduino.write(b'V')\n",
    "        onOffFunction()\n",
    "    elif command ==\"O\":\n",
    "        arduino.write(b'O') \n",
    "        arduino.close()\n",
    "    else:\n",
    "        print(\"Sorry..type another thing..!\")\n",
    "        onOffFunction()\n",
    "\n",
    "time.sleep(2) #waiting the initialization...\n",
    "\n",
    "onOffFunction()"
   ]
  }
 ],
 "metadata": {
  "kernelspec": {
   "display_name": "posture_correction",
   "language": "python",
   "name": "python3"
  },
  "language_info": {
   "codemirror_mode": {
    "name": "ipython",
    "version": 3
   },
   "file_extension": ".py",
   "mimetype": "text/x-python",
   "name": "python",
   "nbconvert_exporter": "python",
   "pygments_lexer": "ipython3",
   "version": "3.10.13"
  }
 },
 "nbformat": 4,
 "nbformat_minor": 2
}
